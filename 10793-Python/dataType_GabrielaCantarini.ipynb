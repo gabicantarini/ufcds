{
 "cells": [
  {
   "cell_type": "markdown",
   "metadata": {},
   "source": [
    "Data Type"
   ]
  },
  {
   "cell_type": "markdown",
   "metadata": {},
   "source": [
    "s -> string\n",
    "c -> carater\n",
    "i -> inteiro\n",
    "d -> decimal\n",
    "f -> float\n",
    "e -> float com expomenciação"
   ]
  },
  {
   "cell_type": "code",
   "execution_count": 14,
   "metadata": {},
   "outputs": [
    {
     "name": "stdout",
     "output_type": "stream",
     "text": [
      "<class 'int'>\n",
      "['__abs__', '__add__', '__and__', '__bool__', '__ceil__', '__class__', '__delattr__', '__dir__', '__divmod__', '__doc__', '__eq__', '__float__', '__floor__', '__floordiv__', '__format__', '__ge__', '__getattribute__', '__getnewargs__', '__getstate__', '__gt__', '__hash__', '__index__', '__init__', '__init_subclass__', '__int__', '__invert__', '__le__', '__lshift__', '__lt__', '__mod__', '__mul__', '__ne__', '__neg__', '__new__', '__or__', '__pos__', '__pow__', '__radd__', '__rand__', '__rdivmod__', '__reduce__', '__reduce_ex__', '__repr__', '__rfloordiv__', '__rlshift__', '__rmod__', '__rmul__', '__ror__', '__round__', '__rpow__', '__rrshift__', '__rshift__', '__rsub__', '__rtruediv__', '__rxor__', '__setattr__', '__sizeof__', '__str__', '__sub__', '__subclasshook__', '__truediv__', '__trunc__', '__xor__', 'as_integer_ratio', 'bit_count', 'bit_length', 'conjugate', 'denominator', 'from_bytes', 'imag', 'is_integer', 'numerator', 'real', 'to_bytes']\n"
     ]
    }
   ],
   "source": [
    "a=12345\n",
    "print(type(a))  # usamos para apresentar os tipo de dados.\n",
    "print(dir(a))   # usamos para apresentar todas as funções que podem ser usadas com o tipo de dado apresentado."
   ]
  },
  {
   "cell_type": "markdown",
   "metadata": {},
   "source": [
    "O resultado será o mesmo ao usarmos as strings."
   ]
  },
  {
   "cell_type": "code",
   "execution_count": 11,
   "metadata": {},
   "outputs": [
    {
     "name": "stdout",
     "output_type": "stream",
     "text": [
      "<class 'str'>\n",
      "['__add__', '__class__', '__contains__', '__delattr__', '__dir__', '__doc__', '__eq__', '__format__', '__ge__', '__getattribute__', '__getitem__', '__getnewargs__', '__getstate__', '__gt__', '__hash__', '__init__', '__init_subclass__', '__iter__', '__le__', '__len__', '__lt__', '__mod__', '__mul__', '__ne__', '__new__', '__reduce__', '__reduce_ex__', '__repr__', '__rmod__', '__rmul__', '__setattr__', '__sizeof__', '__str__', '__subclasshook__', 'capitalize', 'casefold', 'center', 'count', 'encode', 'endswith', 'expandtabs', 'find', 'format', 'format_map', 'index', 'isalnum', 'isalpha', 'isascii', 'isdecimal', 'isdigit', 'isidentifier', 'islower', 'isnumeric', 'isprintable', 'isspace', 'istitle', 'isupper', 'join', 'ljust', 'lower', 'lstrip', 'maketrans', 'partition', 'removeprefix', 'removesuffix', 'replace', 'rfind', 'rindex', 'rjust', 'rpartition', 'rsplit', 'rstrip', 'split', 'splitlines', 'startswith', 'strip', 'swapcase', 'title', 'translate', 'upper', 'zfill']\n"
     ]
    }
   ],
   "source": [
    "a='Cecília'\n",
    "print(type(a))\n",
    "print(dir(a))"
   ]
  },
  {
   "cell_type": "markdown",
   "metadata": {},
   "source": [
    "Também podemos usar as operações matemáticas para fazer conta."
   ]
  },
  {
   "cell_type": "code",
   "execution_count": 24,
   "metadata": {},
   "outputs": [
    {
     "name": "stdout",
     "output_type": "stream",
     "text": [
      "6\n",
      "-2\n",
      "8\n",
      "32\n"
     ]
    }
   ],
   "source": [
    "a=2\n",
    "b=4\n",
    "print(a+b)   # + -> adição\n",
    "print(a-b)   # - -> subtração\n",
    "print(a*b)   # * -> multiplicação\n",
    "print(a**5)  # ** -> exponenciação"
   ]
  },
  {
   "cell_type": "code",
   "execution_count": 13,
   "metadata": {},
   "outputs": [
    {
     "name": "stdout",
     "output_type": "stream",
     "text": [
      "0.5\n",
      "<class 'float'>\n",
      "0\n",
      "2\n"
     ]
    }
   ],
   "source": [
    "a=2\n",
    "b=4\n",
    "c = a/b # / -> divisão\n",
    "print(c)\n",
    "print(type(c))\n",
    "print(a//b) # // -> divisão, remove os dígitos decimais\n",
    "print(a%b) # % -> resto da divisão"
   ]
  },
  {
   "cell_type": "markdown",
   "metadata": {},
   "source": [
    "Módulo Math"
   ]
  },
  {
   "cell_type": "markdown",
   "metadata": {},
   "source": [
    "Através do módulo math fazemos mais complexas."
   ]
  },
  {
   "cell_type": "code",
   "execution_count": 3,
   "metadata": {},
   "outputs": [
    {
     "name": "stdout",
     "output_type": "stream",
     "text": [
      "3.141592653589793\n",
      "3.1\n",
      "3.1416\n"
     ]
    }
   ],
   "source": [
    "import math\n",
    "a = math.pi\n",
    "print(a)\n",
    "print('%.1f'%a)\n",
    "print('%.4f'%a)"
   ]
  },
  {
   "cell_type": "markdown",
   "metadata": {},
   "source": [
    "Trabalhando com Strings"
   ]
  },
  {
   "cell_type": "code",
   "execution_count": 12,
   "metadata": {},
   "outputs": [
    {
     "name": "stdout",
     "output_type": "stream",
     "text": [
      "<class 'str'>\n",
      "8\n",
      "a\n",
      "Gab\n",
      "a\n"
     ]
    }
   ],
   "source": [
    "a= 'Gabriela'\n",
    "print(type(a))  # retorna tipo\n",
    "print(len(a))   # número de itens da sequencia de string\n",
    "print(a[1])     # caracter na posição 1\n",
    "print(a[0:3])   # 3 primeiros caracteres\n",
    "print(a[-1])    # último caracter da string"
   ]
  },
  {
   "cell_type": "code",
   "execution_count": 21,
   "metadata": {},
   "outputs": [
    {
     "name": "stdout",
     "output_type": "stream",
     "text": [
      "Soma de a + b + c: Gabriela->Cantarini\n",
      "GabrielaGabriela\n",
      "GABRIELA\n",
      "gabriela\n",
      "Gabriela->Cantarini\n",
      "8\n",
      "Gabriela->Cantarini\n",
      "Gabriela Almeida Cantarini\n",
      "['Gabriela', 'Cantarini']\n"
     ]
    }
   ],
   "source": [
    "a='Gabriela'\n",
    "b='->'\n",
    "c='Cantarini'\n",
    "print(\"Soma de a + b + c: \" + a+b+c)\n",
    "print(a*2)\n",
    "print(a.upper()) # retorna a string com letras grandes \n",
    "print(a.lower()) # retorna a string com letras pequenas\n",
    "d=a+b+c\n",
    "print(d)\n",
    "print(d.find('->')) # busca\n",
    "f=d.replace('->',' Almeida ') # substitui -> por Almeida\n",
    "print(d)\n",
    "print(f)\n",
    "print(d.split('->')) #separa"
   ]
  },
  {
   "cell_type": "markdown",
   "metadata": {},
   "source": [
    "Trabalhando com o Módulo sys"
   ]
  },
  {
   "cell_type": "code",
   "execution_count": 6,
   "metadata": {},
   "outputs": [
    {
     "name": "stdout",
     "output_type": "stream",
     "text": [
      "Tenho 1 computador com win32 instalado \n",
      "Tenho 1.000 computador com win32 instalado \n",
      "Tenho 1 portátil com win32 instalado e o binário do executável está em c:\\Program Files\\Python312\\python.exe\n"
     ]
    }
   ],
   "source": [
    "import sys\n",
    "a='Tenho %i computador com %s instalado '%(1, sys.platform)\n",
    "b='Tenho %.3f computador com %s instalado '%(1, sys.platform)\n",
    "c='Tenho {0} {1} com {2} instalado e o binário do executável está em {3}'.format(1,'portátil', sys.platform, sys.executable)\n",
    "print(a)\n",
    "print(b)\n",
    "print(c)\n"
   ]
  },
  {
   "cell_type": "markdown",
   "metadata": {},
   "source": [
    "Formatação com símbolos"
   ]
  },
  {
   "cell_type": "code",
   "execution_count": 22,
   "metadata": {},
   "outputs": [
    {
     "name": "stdout",
     "output_type": "stream",
     "text": [
      "                       Aluna: Gabriela Cantarini!\n",
      "\n",
      "           Aluna: Gabriela Cantarini!\n",
      "            \n",
      "Aluna: Gabriela Cantarini!\n",
      "                       \n"
     ]
    }
   ],
   "source": [
    "mensagem=\"Aluna: Gabriela Cantarini!\\n\"\n",
    "print(f\"{mensagem:>50}\")\n",
    "print(f\"{mensagem:^50}\")\n",
    "print(f\"{mensagem:<50}\")"
   ]
  },
  {
   "cell_type": "markdown",
   "metadata": {},
   "source": [
    "Formatação com métodos."
   ]
  },
  {
   "cell_type": "code",
   "execution_count": 23,
   "metadata": {},
   "outputs": [
    {
     "name": "stdout",
     "output_type": "stream",
     "text": [
      "                        Aluna: Cecília Cantarini!\n",
      "\n",
      "            Aluna: Cecília Cantarini!\n",
      "            \n",
      "Aluna: Cecília Cantarini!\n",
      "                        \n"
     ]
    }
   ],
   "source": [
    "mensagem= \"Aluna: Cecília Cantarini!\\n\"\n",
    "print(f\"{mensagem}\".rjust(50))\n",
    "print(f\"{mensagem}\".center(50))\n",
    "print(f\"{mensagem}\".ljust(50))"
   ]
  }
 ],
 "metadata": {
  "kernelspec": {
   "display_name": "Python 3",
   "language": "python",
   "name": "python3"
  },
  "language_info": {
   "codemirror_mode": {
    "name": "ipython",
    "version": 3
   },
   "file_extension": ".py",
   "mimetype": "text/x-python",
   "name": "python",
   "nbconvert_exporter": "python",
   "pygments_lexer": "ipython3",
   "version": "3.12.1"
  }
 },
 "nbformat": 4,
 "nbformat_minor": 2
}
