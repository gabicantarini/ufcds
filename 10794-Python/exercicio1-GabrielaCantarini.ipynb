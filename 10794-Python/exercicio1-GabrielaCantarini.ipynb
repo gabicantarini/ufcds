{
 "cells": [
  {
   "cell_type": "markdown",
   "metadata": {},
   "source": [
    "***Exercícios em Python***\n",
    "\n",
    "**1) Utilizar o método input() para fazer as seguintes tarefas:**\n",
    "\n",
    "* Pedir um número por teclado, mostrar o resultado e o tipo (para saber em que tipo de dado captura a informação input());"
   ]
  },
  {
   "cell_type": "code",
   "execution_count": 19,
   "metadata": {},
   "outputs": [
    {
     "name": "stdout",
     "output_type": "stream",
     "text": [
      "O número digitado foi: 1 \n",
      "É um número do tipo:  <class 'str'>\n"
     ]
    }
   ],
   "source": [
    "#solicitar e guardar número inserido\n",
    "numero = input(\"Insira um número:\")\n",
    "print(\"O número digitado foi:\", numero,\"\\nÉ um número do tipo: \", type(numero))"
   ]
  },
  {
   "cell_type": "markdown",
   "metadata": {},
   "source": [
    "* Pedir um número por teclado e assegurar que capturamos a informação em formato int;"
   ]
  },
  {
   "cell_type": "code",
   "execution_count": 28,
   "metadata": {},
   "outputs": [
    {
     "name": "stdout",
     "output_type": "stream",
     "text": [
      "O número digitado foi: 1  Tipo:  <class 'str'>\n",
      "O número digitado foi: 1  Tipo:  <class 'int'>\n",
      "O número digitado foi: 1  Tipo:  <class 'int'>\n"
     ]
    }
   ],
   "source": [
    "#solicitar e guardar número inserido\n",
    "numero = input(\"Insira um número:\")\n",
    "\n",
    "#só aceita receber um número int\n",
    "numero_int = int(numero) #se digitar um número decimal, dá erro\n",
    "\n",
    "#para receber um número int ou decimal\n",
    "numero_float = int(float(numero)) \n",
    "\n",
    "print(\"O número digitado foi:\", numero,\" Tipo: \", type(numero))\n",
    "print(\"O número digitado foi:\", numero,\" Tipo: \", type(numero_int))\n",
    "print(\"O número digitado foi:\", numero,\" Tipo: \", type(numero_float))"
   ]
  },
  {
   "cell_type": "markdown",
   "metadata": {},
   "source": [
    "* pedir um número por teclado e assegurar-se de que capturamos a informação no formato float;"
   ]
  },
  {
   "cell_type": "code",
   "execution_count": 30,
   "metadata": {},
   "outputs": [
    {
     "name": "stdout",
     "output_type": "stream",
     "text": [
      "O número digitado foi: 25  Tipo:  <class 'str'>\n",
      "O número digitado foi: 25  Tipo:  <class 'float'>\n"
     ]
    }
   ],
   "source": [
    "#solicitar e guardar número inserido\n",
    "numero = input(\"Insira um número:\")\n",
    "\n",
    "numero_float = float(numero) #sem arredondamento\n",
    "\n",
    "print(\"O número digitado foi:\", numero,\" Tipo: \", type(numero))\n",
    "print(\"O número digitado foi:\", numero,\" Tipo: \", type(numero_float))"
   ]
  },
  {
   "cell_type": "markdown",
   "metadata": {},
   "source": [
    "\n",
    "\n",
    "**2) Formatar os seguintes valores para mostrar o resultado indicado:**\n",
    "* \"Olá Pyhton\" => Alinhado à direita em 20 caracteres"
   ]
  },
  {
   "cell_type": "code",
   "execution_count": 33,
   "metadata": {},
   "outputs": [
    {
     "name": "stdout",
     "output_type": "stream",
     "text": [
      "10\n",
      "Olá Python\n",
      "          Olá Python\n",
      "********************\n"
     ]
    }
   ],
   "source": [
    "print(len(\"Olá Python\")) #mostrar a quantidade de caracteres\n",
    "print(\"Olá Python\") #mostrar a posição normal da string\n",
    "\n",
    "#alinhar os caracteres à direita, com um espaço de 20 caracteres\n",
    "print(\"{:>20}\".format(\"Olá Python\"))\n",
    "\n",
    "print(\"********************\") # 20 caracteres para comparar a posição da string anterior"
   ]
  },
  {
   "cell_type": "markdown",
   "metadata": {},
   "source": [
    "* \"Olá Pyhton\" => Truncagem no quarto caractere (índice 3)"
   ]
  },
  {
   "cell_type": "code",
   "execution_count": 6,
   "metadata": {
    "scrolled": true
   },
   "outputs": [
    {
     "name": "stdout",
     "output_type": "stream",
     "text": [
      "Olá Python\n",
      "Olá \n",
      "Número de caracteres: 4\n"
     ]
    }
   ],
   "source": [
    "print(\"Olá Python\") #string na posição inicial\n",
    "\n",
    "print(\"{:.4}\".format(\"Olá Python\")) #mostrar a expresssão só com os 4 primeiros caracteres\n",
    "\n",
    "#para confirmar o numero de caracteres uso de novo o metodo len()\n",
    "caracteres = len(\"{:.4}\".format(\"Olá Python\"))\n",
    "print(\"Número de caracteres:\",caracteres)"
   ]
  },
  {
   "cell_type": "markdown",
   "metadata": {},
   "source": [
    "* \"Olá Pyhton\" => Alinhado ao centro em 20 caracteres com truncagem no segundo catactere (índice 1)"
   ]
  },
  {
   "cell_type": "code",
   "execution_count": 34,
   "metadata": {},
   "outputs": [
    {
     "name": "stdout",
     "output_type": "stream",
     "text": [
      "Olá Python\n",
      "     Olá Python     \n",
      "         Ol         \n",
      "********************\n"
     ]
    }
   ],
   "source": [
    "print(\"Olá Python\") #mostra a posição normal da string\n",
    "\n",
    "print(\"{:^20}\".format(\"Olá Python\")) #mostrar string com20 caracteres\n",
    "\n",
    "print(\"{:^20.2}\".format(\"Olá Python\")) #mostra string com 20 caracteres e com truncagem no 2 caracter\n",
    "\n",
    "print(\"********************\") # 20 caracteres para comparar a string "
   ]
  },
  {
   "cell_type": "markdown",
   "metadata": {},
   "source": [
    "* 150 => Formatar a 5 números inteiros preenchidos com zeros"
   ]
  },
  {
   "cell_type": "code",
   "execution_count": 8,
   "metadata": {},
   "outputs": [
    {
     "name": "stdout",
     "output_type": "stream",
     "text": [
      "00150\n"
     ]
    }
   ],
   "source": [
    "print(\"{:05}\".format(150)) #apresenta 5 caracteres no total, tendo o número 150 com zeros à esquerda"
   ]
  },
  {
   "cell_type": "markdown",
   "metadata": {},
   "source": [
    "* 1071 => Formatar a 7 números inteiros preenchidos com espaços"
   ]
  },
  {
   "cell_type": "code",
   "execution_count": 35,
   "metadata": {},
   "outputs": [
    {
     "name": "stdout",
     "output_type": "stream",
     "text": [
      "   1071\n",
      "*******\n"
     ]
    }
   ],
   "source": [
    "print(\"{:\" \"7}\".format(1071)) #apresenta 7 caracteres no total, tendo o número 1071 com espaços à esquerda\n",
    "print(\"*******\") # 7 caracteres para comparar a posição "
   ]
  },
  {
   "cell_type": "markdown",
   "metadata": {},
   "source": [
    "* 10.01 => Formatar a 3 números inteiros e 3 números decimais"
   ]
  },
  {
   "cell_type": "code",
   "execution_count": 36,
   "metadata": {},
   "outputs": [
    {
     "name": "stdout",
     "output_type": "stream",
     "text": [
      "010.010\n",
      "*******\n"
     ]
    }
   ],
   "source": [
    "print(\"{:07.3f}\".format(10.01)) #apresenta 7 caracteres no total, tendo 3 números inteiros e 3 numeros décimais para o número 10.01\n",
    "\n",
    "print(\"*******\") # 7 caracteres para comparar a posição \n"
   ]
  },
  {
   "cell_type": "markdown",
   "metadata": {},
   "source": [
    "**3) Faça uma função que calcula o IMC (Índice de Massa Corporal) de uma pessoa. Esta função recebe como argumentos o peso e altura da pessoa. Na função main() faça o código necessário para pedir ao utilizador o seu peso e altura. \n",
    "Como resultado terá de mostrar no terminal a seguintes frases:**\n",
    "\n",
    "\"Pelo método format:\n",
    "\n",
    "O seu peso é (valor do peso)Kg e (valor da altura) x,y m, o seu IMC é de xx tem a classificação (colocar classificação)\"\n",
    "\n",
    "\n",
    "\"Pelo método f-string:\n",
    "\n",
    "O seu peso é (valor do peso)Kg e (valor da altura) x,y m, o seu IMC é de xx tem a classificação (colocar classificação)\"\n"
   ]
  },
  {
   "cell_type": "code",
   "execution_count": 37,
   "metadata": {},
   "outputs": [
    {
     "name": "stdout",
     "output_type": "stream",
     "text": [
      "Insira os seguintes dados:\n",
      "\n",
      "Pelo método format:\n",
      "O seu peso é 1.0 Kg e 1.63 m, o seu IMC é de 0.38 tem a classificação Muito abaixo do peso.\n",
      "\n",
      "Pelo método f-string:\n",
      "O seu peso é 1.0 Kg e 1.63 m, o seu IMC é de 0.38 tem a classificação Muito abaixo do peso.\n"
     ]
    }
   ],
   "source": [
    "# IMC = peso / (altura x altura)\n",
    "\n",
    "def IMC(peso,altura):\n",
    "    imc = peso/(altura*altura)\n",
    "\n",
    "    classificacao =\"\"\n",
    "    if (peso > 0 and altura > 0):\n",
    "\n",
    "        if (imc > 0 and imc < 17): #verifica se a pessoa está com o peso muito abaixo da média \n",
    "            classificacao=\"Muito abaixo do peso.\"\n",
    "        elif (imc >= 17 and imc < 18.5): #verifica se a pessoa está um pouco abaixo do peso ideal \n",
    "            classificacao=\"Abaixo do peso.\"\n",
    "        elif (imc >= 18.5 and imc < 25): #verifica se a pessoa está com o peso abaixo da média ideal\n",
    "            classificacao=\"Peso normal.\"\n",
    "        elif (imc >=25 and imc < 30): #verifica se a pessoa está com o peso um pouco acima da média \n",
    "            classificacao=\"Acima do peso.\"\n",
    "        elif (imc >= 30 and imc < 35): #verifica se a pessoa está com obesidade grau I \n",
    "            classificacao=\"Obesidade grau I.\"\n",
    "        elif (imc >= 35 and imc < 40): #verifica se a pessoa está com obesidade grau II \n",
    "            classificacao=\"Obesidade grau II.\"\n",
    "        else:\n",
    "            classificacao=\"Obesidade grau III.\" # retorna pessoa com obesidade grau III\n",
    "    else:\n",
    "        print(\"Erro ao introduzir os dados.\")#retonra os dados de peso e altura que forem menores que zero.\n",
    "        return\n",
    "\n",
    "    print(\"\\nPelo método format:\\nO seu peso é {0} Kg e {1} m, o seu IMC é de {2:.2f} tem a classificação {3}\".format(peso, altura, imc, classificacao))\n",
    "    print(f\"\\nPelo método f-string:\\nO seu peso é {peso} Kg e {altura} m, o seu IMC é de {imc:.2f} tem a classificação {classificacao}\")\n",
    "\n",
    "def main():\n",
    "    try: \n",
    "        print(\"Insira os seguintes dados:\")\n",
    "        peso=float(input(\"Peso (kg):\"))\n",
    "        altura=float(input(\"Altura (m):\"))\n",
    "        IMC(peso,altura)\n",
    "    except: \n",
    "        print(\"Erro ao introduzir os dados\") \n",
    "        #informa possível erro nos dados indicados\n",
    "main()"
   ]
  },
  {
   "cell_type": "code",
   "execution_count": null,
   "metadata": {},
   "outputs": [],
   "source": []
  }
 ],
 "metadata": {
  "kernelspec": {
   "display_name": "Python 3 (ipykernel)",
   "language": "python",
   "name": "python3"
  },
  "language_info": {
   "codemirror_mode": {
    "name": "ipython",
    "version": 3
   },
   "file_extension": ".py",
   "mimetype": "text/x-python",
   "name": "python",
   "nbconvert_exporter": "python",
   "pygments_lexer": "ipython3",
   "version": "3.12.1"
  }
 },
 "nbformat": 4,
 "nbformat_minor": 4
}
